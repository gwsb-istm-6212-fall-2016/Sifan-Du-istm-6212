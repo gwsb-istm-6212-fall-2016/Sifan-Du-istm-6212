{
 "cells": [
  {
   "cell_type": "markdown",
   "metadata": {},
   "source": [
    "# Exercise 04 - Due Friday, October 21 at 12pm\n",
    "\n",
    "*Objectives*: Gain experience loading a CSV dataset into a database model you define yourself and using SQL to explore its contents. Explore the data by writing and executing a number of SQL queries using common syntax and functions and describing your findings.\n",
    "\n",
    "*Grading criteria*: The tasks should all be completed, and questions should all be answered with SQL queries in the space provided, unless a text answer is requested. Results should be correct, according to the embedded tests. The notebook itself should be completely reproducible; from start to finish, another person should be able to use the same code to obtain the same results as yours.  Note that you will receive no more than partial credit if you do not add text/markdown cells explaining your thinking at each major step in each problem.\n",
    "\n",
    "*Deadline*: Friday, October 21, 12pm. Submit your notebook to Blackboard and push it to your GitHub repository.\n",
    "\n",
    "## Setup - obtain data and create database\n",
    "\n",
    "The US City Open Data Census has data on [restaurant inspections from all over the country](http://us-city.census.okfn.org/dataset/food-safety).  Let's take a look at data from Albuquerque.  *Note*: metadata and other details for this dataset are available at http://data.cabq.gov/business/foodinspections/.\n",
    "\n",
    "Fyi, to save you a step, I've converted this file into a clean CSV file by using the `dos2unix` command to change its line endings and to switch it to use commas instead of tabs using `csvformat -t inputfile.csv > outputfile.csv`.\n",
    "\n",
    "First we download the dataset:"
   ]
  },
  {
   "cell_type": "code",
   "execution_count": 1,
   "metadata": {
    "collapsed": false
   },
   "outputs": [
    {
     "name": "stdout",
     "output_type": "stream",
     "text": [
      "--2016-10-24 19:39:16--  https://raw.githubusercontent.com/gwsb-istm-6212-fall-2016/syllabus-and-schedule/master/exercises/abq-food-inspections-fy2010.csv\n",
      "Resolving raw.githubusercontent.com (raw.githubusercontent.com)... 151.101.32.133\n",
      "Connecting to raw.githubusercontent.com (raw.githubusercontent.com)|151.101.32.133|:443... connected.\n",
      "HTTP request sent, awaiting response... 200 OK\n",
      "Length: 5025226 (4.8M) [text/plain]\n",
      "Saving to: ‘abq-food-inspections-fy2010.csv’\n",
      "\n",
      "abq-food-inspection 100%[=====================>]   4.79M  --.-KB/s   in 0.08s  \n",
      "\n",
      "2016-10-24 19:39:16 (60.8 MB/s) - ‘abq-food-inspections-fy2010.csv’ saved [5025226/5025226]\n",
      "\n"
     ]
    }
   ],
   "source": [
    "!wget https://raw.githubusercontent.com/gwsb-istm-6212-fall-2016/syllabus-and-schedule/master/exercises/abq-food-inspections-fy2010.csv"
   ]
  },
  {
   "cell_type": "markdown",
   "metadata": {},
   "source": [
    "## Problem 1 - examine the data (35 points)\n",
    "\n",
    "Use `csvstat` and other tools as you see fit and observe its contents.  Review the metadata definitions linked to above.  Describe what you see:  What do all the columns mean?  Are there null values?  Which columns interest you the most?  Which columns present some complications or questions you would like to ask?"
   ]
  },
  {
   "cell_type": "code",
   "execution_count": 2,
   "metadata": {
    "collapsed": false
   },
   "outputs": [
    {
     "name": "stdout",
     "output_type": "stream",
     "text": [
      "17557 abq-food-inspections-fy2010.csv\r\n"
     ]
    }
   ],
   "source": [
    "!wc -l abq-food-inspections-fy2010.csv"
   ]
  },
  {
   "cell_type": "code",
   "execution_count": 3,
   "metadata": {
    "collapsed": false
   },
   "outputs": [
    {
     "name": "stdout",
     "output_type": "stream",
     "text": [
      "  1: FACILITY_NAME\r\n",
      "  2: FACILITY_KEY\r\n",
      "  3: SITE_ADDRESS\r\n",
      "  4: CITY\r\n",
      "  5: STATE\r\n",
      "  6: ZIP\r\n",
      "  7: OWNER_KEY\r\n",
      "  8: OWNER_NAME\r\n",
      "  9: NATURE_OF_BUSINESS\r\n",
      " 10: STREET_NUMBER\r\n",
      " 11: STREET_NAME\r\n",
      " 12: STREET_TYPE\r\n",
      " 13: POST_DIRECTIONAL\r\n",
      " 14: PHONE\r\n",
      " 15: PROGRAM_CATEGORY\r\n",
      " 16: PROGRAM_CATEGORY_DESCRIPTION\r\n",
      " 17: INSPECTION_DATE\r\n",
      " 18: INSPECTION_TYPE\r\n",
      " 19: INSPECTION_DESC\r\n",
      " 20: SERIAL_NUM\r\n",
      " 21: ACTION_CODE\r\n",
      " 22: ACTION_DESC\r\n",
      " 23: RESULT_CODE\r\n",
      " 24: RESULT_DESC\r\n",
      " 25: VIOLATION_CODE\r\n",
      " 26: VIOLATION_DESC\r\n",
      " 27: INSPECTION_MEMO\r\n"
     ]
    }
   ],
   "source": [
    "!csvcut -n abq-food-inspections-fy2010.csv"
   ]
  },
  {
   "cell_type": "markdown",
   "metadata": {},
   "source": [
    "What do all the columns mean? \n",
    "\n",
    "\n",
    "\n",
    "1: FACILITY_NAME: Name of the facility that was inspected\n",
    "2: FACILITY_KEY: The unique key of the facility inspected\n",
    "3: SITE_ADDRESS: Street address of the facility inspected\n",
    "4: CITY: City in which the facility is located\n",
    "5: STATE: State in which the facility is located\n",
    "6: ZIP: Zip code of the facility\n",
    "7: OWNER_KEY: The unique key of the Owner of the facility at the time of inspection\n",
    "8: OWNER_NAME: Name of the Owner of the facility at the time of inspection\n",
    "9: NATURE_OF_BUSINESS: The type of business\n",
    "10: STREET_NUMBER: Street number of the facility inspected\n",
    "11: STREET_NAME: Street name of the facility inspected\n",
    "12: STREET_TYPE: Street type of the facility inspected\n",
    "13: POST_DIRECTIONAL: Postal direction of the facility inspected\n",
    "14: PHONE: Phone number of the facility\n",
    "15: PROGRAM_CATEGORY: Id indicating the type of facility permit\n",
    "16: PROGRAM_CATEGORY_DESCRIPTION: Descript of the Program Category\n",
    "17: INSPECTION_DATE: Date of the inspection\n",
    "18: INSPECTION_TYPE: Code for type of inspection\n",
    "19: INSPECTION_DESC: Description of the inspection\n",
    "20: SERIAL_NUM: Unique ID for the particular inspection\n",
    "21: ACTION_CODE: Code for actions taken\n",
    "22: ACTION_DESC: Description for actions taken\n",
    "23: RESULT_CODE: Code of inspection results\n",
    "24: RESULT_DESC: Description of inspection results\n",
    "25: VIOLATION_CODE: Code for violations\n",
    "26: VIOLATION_DESC: Description of violations\n",
    "27: INSPECTION_MEMO: Inspector's notes on the inspection\n",
    "\n"
   ]
  },
  {
   "cell_type": "code",
   "execution_count": 4,
   "metadata": {
    "collapsed": false
   },
   "outputs": [
    {
     "name": "stdout",
     "output_type": "stream",
     "text": [
      "  1. FACILITY_NAME\n",
      "\t<class 'str'>\n",
      "\tNulls: False\n",
      "\tUnique values: 2615\n",
      "\t5 most frequent values:\n",
      "\t\tSMITHS FOOD AND DRUG CENTERS INC:\t154\n",
      "\t\tISOTOPES PARK - OVATIONS:\t93\n",
      "\t\tPER EHSII CECELIA GARCIA OOB LA REYNA DEL SUR:\t85\n",
      "\t\tISLETA AMPHITHEATER:\t68\n",
      "\t\tECHO INC:\t68\n",
      "\tMax length: 77\n",
      "  2. FACILITY_KEY\n",
      "\t<class 'int'>\n",
      "\tNulls: False\n",
      "\tMin: 13\n",
      "\tMax: 101482\n",
      "\tSum: 820405773\n",
      "\tMean: 46730.79135338346\n",
      "\tMedian: 50866.0\n",
      "\tStandard Deviation: 32659.794578837962\n",
      "\tUnique values: 2835\n",
      "\t5 most frequent values:\n",
      "\t\t46323:\t93\n",
      "\t\t65863:\t85\n",
      "\t\t80949:\t68\n",
      "\t\t32817:\t68\n",
      "\t\t91825:\t66\n",
      "  3. SITE_ADDRESS\n",
      "\t<class 'str'>\n",
      "\tNulls: True\n",
      "\tUnique values: 2456\n",
      "\t5 most frequent values:\n",
      "\t\t1601 AVENIDA CESAR CHAVEZ SE:\t94\n",
      "\t\t644 OLD COORS BLVD SW:\t85\n",
      "\t\t8601 CENTRAL AV NE:\t77\n",
      "\t\t2200 SUNPORT BLVD SE:\t75\n",
      "\t\t5210 CENTRAL AV SE:\t73\n",
      "\tMax length: 35\n",
      "  4. CITY\n",
      "\t<class 'str'>\n",
      "\tNulls: False\n",
      "\tValues: ALBUQUERQUE\n",
      "  5. STATE\n",
      "\t<class 'str'>\n",
      "\tNulls: False\n",
      "\tValues: NM, 87\n",
      "  6. ZIP\n",
      "\t<class 'str'>\n",
      "\tNulls: False\n",
      "\tUnique values: 48\n",
      "\t5 most frequent values:\n",
      "\t\t87110:\t1996\n",
      "\t\t87108:\t1976\n",
      "\t\t87102:\t1601\n",
      "\t\t87106:\t1568\n",
      "\t\t87109:\t1552\n",
      "\tMax length: 10\n",
      "  7. OWNER_KEY\n",
      "\t<class 'int'>\n",
      "\tNulls: False\n",
      "\tMin: 11\n",
      "\tMax: 87302\n",
      "\tSum: 644760848\n",
      "\tMean: 36725.953975848715\n",
      "\tMedian: 33747.0\n",
      "\tStandard Deviation: 29428.207216739836\n",
      "\tUnique values: 1892\n",
      "\t5 most frequent values:\n",
      "\t\t1838:\t792\n",
      "\t\t3537:\t321\n",
      "\t\t1272:\t228\n",
      "\t\t36280:\t156\n",
      "\t\t80274:\t155\n",
      "  8. OWNER_NAME\n",
      "\t<class 'str'>\n",
      "\tNulls: False\n",
      "\tUnique values: 1852\n",
      "\t5 most frequent values:\n",
      "\t\tAPS:\t792\n",
      "\t\tSMITHS FOOD AND DRUG CENTERS INC:\t321\n",
      "\t\tCIRCLE K STORES INC:\t277\n",
      "\t\tALBERTSONS:\t228\n",
      "\t\tWAL MART STORES EAST  LP:\t156\n",
      "\tMax length: 82\n",
      "  9. NATURE_OF_BUSINESS\n",
      "\t<class 'str'>\n",
      "\tNulls: True\n",
      "\tUnique values: 594\n",
      "\t5 most frequent values:\n",
      "\t\tRESTAURANT:\t4994\n",
      "\t\tFOOD SERVICE:\t691\n",
      "\t\tGROCERY:\t618\n",
      "\t\tBAR/RESTAURANT:\t508\n",
      "\t\tAPS SCHOOL FOOD SERVICE:\t470\n",
      "\tMax length: 25\n",
      " 10. STREET_NUMBER\n",
      "\t<class 'str'>\n",
      "\tNulls: True\n",
      "\tUnique values: 1349\n",
      "\t5 most frequent values:\n",
      "\t\t6600:\t216\n",
      "\t\t10000:\t152\n",
      "\t\t300:\t143\n",
      "\t\t2200:\t127\n",
      "\t\t8100:\t125\n",
      "\tMax length: 7\n",
      " 11. STREET_NAME\n",
      "\t<class 'str'>\n",
      "\tNulls: True\n",
      "\tUnique values: 404\n",
      "\t5 most frequent values:\n",
      "\t\tCENTRAL:\t1898\n",
      "\t\tMENAUL:\t928\n",
      "\t\tCOORS:\t918\n",
      "\t\tMONTGOMERY:\t727\n",
      "\t\tSAN MATEO:\t707\n",
      "\tMax length: 24\n",
      " 12. STREET_TYPE\n",
      "\t<class 'str'>\n",
      "\tNulls: True\n",
      "\tUnique values: 13\n",
      "\t5 most frequent values:\n",
      "\t\tBLVD:\t7636\n",
      "\t\tAV:\t3005\n",
      "\t\tST:\t2065\n",
      "\t\tRD:\t1900\n",
      "\t\tDR:\t995\n",
      "\tMax length: 4\n",
      " 13. POST_DIRECTIONAL\n",
      "\t<class 'str'>\n",
      "\tNulls: True\n",
      "\tValues: SE, NW, NE, N, SW\n",
      " 14. PHONE\n",
      "\t<class 'int'>\n",
      "\tNulls: True\n",
      "\tMin: 2471094\n",
      "\tMax: 505345566137310\n",
      "\tSum: 2608539289633190\n",
      "\tMean: 161719732773.29138\n",
      "\tMedian: 5053454060.0\n",
      "\tStandard Deviation: 8895791545525.992\n",
      "\tUnique values: 2279\n",
      "\t5 most frequent values:\n",
      "\t\t9153321301:\t101\n",
      "\t\t3037929467:\t100\n",
      "\t\t5052224033:\t94\n",
      "\t\t3109680646:\t85\n",
      "\t\t2122383000:\t68\n",
      " 15. PROGRAM_CATEGORY\n",
      "\t<class 'str'>\n",
      "\tNulls: False\n",
      "\tUnique values: 25\n",
      "\t5 most frequent values:\n",
      "\t\t0406:\t7969\n",
      "\t\t0601:\t1159\n",
      "\t\t0607:\t894\n",
      "\t\t0606:\t865\n",
      "\t\t0501:\t832\n",
      "\tMax length: 4\n",
      " 16. PROGRAM_CATEGORY_DESCRIPTION\n",
      "\t<class 'str'>\n",
      "\tNulls: True\n",
      "\tUnique values: 24\n",
      "\t5 most frequent values:\n",
      "\t\tFood Service Establishment:\t7969\n",
      "\t\tRetail -Grocery:\t1159\n",
      "\t\tRetail - Self Service & Prepackage Foods:\t894\n",
      "\t\tRetail - Prepackage Only:\t865\n",
      "\t\tSchool:\t832\n",
      "\tMax length: 40\n",
      " 17. INSPECTION_DATE\n",
      "\t<class 'datetime.date'>\n",
      "\tNulls: False\n",
      "\tMin: 2009-07-01\n",
      "\tMax: 2010-06-30\n",
      "\tUnique values: 258\n",
      "\t5 most frequent values:\n",
      "\t\t2009-12-16:\t184\n",
      "\t\t2009-09-10:\t159\n",
      "\t\t2009-09-25:\t148\n",
      "\t\t2009-11-04:\t133\n",
      "\t\t2009-10-01:\t131\n",
      " 18. INSPECTION_TYPE\n",
      "\t<class 'NoneType'>\n",
      "\tNulls: True\n",
      "\tValues: \n",
      " 19. INSPECTION_DESC\n",
      "\t<class 'str'>\n",
      "\tNulls: False\n",
      "\tUnique values: 15\n",
      "\t5 most frequent values:\n",
      "\t\tROUTINE FOOD INSPECTION:\t12439\n",
      "\t\tEMERGENCY RESPONSE:\t1987\n",
      "\t\tNew Business Inspection:\t1005\n",
      "\t\tPRE-OPENING FOOD INSPECTION:\t743\n",
      "\t\tADDITIONAL SERVICE PROVIDED:\t439\n",
      "\tMax length: 32\n",
      " 20. SERIAL_NUM\n",
      "\t<class 'str'>\n",
      "\tNulls: False\n",
      "\tUnique values: 9046\n",
      "\t5 most frequent values:\n",
      "\t\tDA0059230:\t61\n",
      "\t\tDA0047720:\t61\n",
      "\t\tDA0045676:\t61\n",
      "\t\tDA0047290:\t61\n",
      "\t\tDA0045731:\t61\n",
      "\tMax length: 9\n",
      " 21. ACTION_CODE\n",
      "\t<class 'str'>\n",
      "\tNulls: False\n",
      "\tUnique values: 8\n",
      "\t5 most frequent values:\n",
      "\t\t11:\t14080\n",
      "\t\t00:\t2800\n",
      "\t\t09:\t382\n",
      "\t\t06:\t264\n",
      "\t\t10:\t21\n",
      "\tMax length: 2\n",
      " 22. ACTION_DESC\n",
      "\t<class 'str'>\n",
      "\tNulls: False\n",
      "\tUnique values: 8\n",
      "\t5 most frequent values:\n",
      "\t\tAPPROVED:\t14080\n",
      "\t\tNON-GRADED:\t2800\n",
      "\t\tANNUAL STICKER ISSUED:\t382\n",
      "\t\tUNSATISFACTORY:\t264\n",
      "\t\tANNUAL STICKER NOT ISSUED:\t21\n",
      "\tMax length: 34\n",
      " 23. RESULT_CODE\n",
      "\t<class 'str'>\n",
      "\tNulls: False\n",
      "\tUnique values: 19\n",
      "\t5 most frequent values:\n",
      "\t\t03:\t14389\n",
      "\t\t00:\t2416\n",
      "\t\t05:\t214\n",
      "\t\t22:\t142\n",
      "\t\t18:\t104\n",
      "\tMax length: 2\n",
      " 24. RESULT_DESC\n",
      "\t<class 'str'>\n",
      "\tNulls: False\n",
      "\tUnique values: 19\n",
      "\t5 most frequent values:\n",
      "\t\tIN COMPLIANCE:\t14389\n",
      "\t\tNOT APPLICABLE:\t2416\n",
      "\t\tDOWNGRADE:\t214\n",
      "\t\tOUT OF BUSINESS:\t142\n",
      "\t\tTRAINING RECEIVED:\t104\n",
      "\tMax length: 37\n",
      " 25. VIOLATION_CODE\n",
      "\t<class 'str'>\n",
      "\tNulls: True\n",
      "\tUnique values: 128\n",
      "\t5 most frequent values:\n",
      "\t\t55:\t6348\n",
      "\t\t00:\t3429\n",
      "\t\t68:\t1658\n",
      "\t\t42:\t487\n",
      "\t\t35:\t441\n",
      "\tMax length: 10\n",
      " 26. VIOLATION_DESC\n",
      "\t<class 'str'>\n",
      "\tNulls: True\n",
      "\tUnique values: 70\n",
      "\t5 most frequent values:\n",
      "\t\tAdditional Comments:\t6353\n",
      "\t\tNo Violations Found:\t3434\n",
      "\t\tDelivered Informational Brochure:\t1657\n",
      "\t\tPlumbing: Improperly installed/maintained/supplied:\t492\n",
      "\t\tNon-Food contact surfaces:\t446\n",
      "\tMax length: 50\n",
      " 27. INSPECTION_MEMO\n",
      "\t<class 'NoneType'>\n",
      "\tNulls: True\n",
      "\tValues: \n",
      "\n",
      "Row count: 17556\n"
     ]
    }
   ],
   "source": [
    "!csvstat abq-food-inspections-fy2010.csv"
   ]
  },
  {
   "cell_type": "markdown",
   "metadata": {},
   "source": [
    "Are there null values?\n",
    "\n",
    "SITE_ADDRESS\n",
    "NATURE_OF_BUSINESS\n",
    "STREET_NUMBER\n",
    "STREET_NAME\n",
    "STREET_TYPE\n",
    "POST_DIRECTIONAL\n",
    "PHONE\n",
    "PROGRAM_CATEGORY_DESCRIPTION\n",
    "INSPECTION_TYPE\n",
    "VIOLATION_CODE\n",
    "VIOLATION_DESC\n",
    "INSPECTION_MEMO\n"
   ]
  },
  {
   "cell_type": "markdown",
   "metadata": {},
   "source": [
    "Which columns interest you the most? \n",
    " \n",
    " \n",
    "1: FACILITY_NAME\n",
    "9: NATURE_OF_BUSINESS\n",
    "16: PROGRAM_CATEGORY_DESCRIPTION\n",
    "19: INSPECTION_DESC\n",
    "22: ACTION_DESC\n",
    "24: RESULT_DESC\n",
    "26: VIOLATION_DESC"
   ]
  },
  {
   "cell_type": "code",
   "execution_count": 5,
   "metadata": {
    "collapsed": false
   },
   "outputs": [
    {
     "name": "stdout",
     "output_type": "stream",
     "text": [
      "|--------------------------+--------------------+-------------------------------|\r\n",
      "|  FACILITY_NAME           | NATURE_OF_BUSINESS | PROGRAM_CATEGORY_DESCRIPTION  |\r\n",
      "|--------------------------+--------------------+-------------------------------|\r\n",
      "|  00BSAY IT WITH CAKE     | CAKE DECORATING    | Food Processor                |\r\n",
      "|  00BSAY IT WITH CAKE     | CAKE DECORATING    | Food Processor                |\r\n",
      "|  00BSAY IT WITH CAKE     | CAKE DECORATING    | Food Processor                |\r\n",
      "|  00BSAY IT WITH CAKE     | CAKE DECORATING    | Food Processor                |\r\n",
      "|  00BSAY IT WITH CAKE     | CAKE DECORATING    | Food Processor                |\r\n",
      "|  2000 VIETNAM RESTAURANT | RESTAURANT         | Food Service Establishment    |\r\n",
      "|  2000 VIETNAM RESTAURANT | RESTAURANT         | Food Service Establishment    |\r\n",
      "|  2000 VIETNAM RESTAURANT | RESTAURANT         | Food Service Establishment    |\r\n",
      "|  328 CHINESE CUISINE     |                    | Food Service Establishment    |\r\n",
      "|--------------------------+--------------------+-------------------------------|\r\n"
     ]
    }
   ],
   "source": [
    "!csvcut -c1,9,16 abq-food-inspections-fy2010.csv | head | csvlook"
   ]
  },
  {
   "cell_type": "code",
   "execution_count": 6,
   "metadata": {
    "collapsed": false
   },
   "outputs": [
    {
     "name": "stdout",
     "output_type": "stream",
     "text": [
      "|--------------------------+-------------------------+-------------+----------------+-----------------------------------|\r\n",
      "|  FACILITY_NAME           | INSPECTION_DESC         | ACTION_DESC | RESULT_DESC    | VIOLATION_DESC                    |\r\n",
      "|--------------------------+-------------------------+-------------+----------------+-----------------------------------|\r\n",
      "|  00BSAY IT WITH CAKE     | EMERGENCY RESPONSE      | NON-GRADED  | NOT APPLICABLE | Delivered Informational Brochure  |\r\n",
      "|  00BSAY IT WITH CAKE     | ROUTINE FOOD INSPECTION | APPROVED    | IN COMPLIANCE  | No Violations Found               |\r\n",
      "|  00BSAY IT WITH CAKE     | ROUTINE FOOD INSPECTION | APPROVED    | IN COMPLIANCE  | Additional Comments               |\r\n",
      "|  00BSAY IT WITH CAKE     | ROUTINE FOOD INSPECTION | APPROVED    | IN COMPLIANCE  | No Violations Found               |\r\n",
      "|  00BSAY IT WITH CAKE     | ROUTINE FOOD INSPECTION | APPROVED    | IN COMPLIANCE  | Additional Comments               |\r\n",
      "|  2000 VIETNAM RESTAURANT | ROUTINE FOOD INSPECTION | APPROVED    | IN COMPLIANCE  | Food contact surfaces             |\r\n",
      "|  2000 VIETNAM RESTAURANT | ROUTINE FOOD INSPECTION | APPROVED    | IN COMPLIANCE  | Non-Food contact surfaces         |\r\n",
      "|  2000 VIETNAM RESTAURANT | ROUTINE FOOD INSPECTION | APPROVED    | IN COMPLIANCE  | Additional Comments               |\r\n",
      "|  328 CHINESE CUISINE     | EMERGENCY RESPONSE      | NON-GRADED  | NOT APPLICABLE | Delivered Informational Brochure  |\r\n",
      "|--------------------------+-------------------------+-------------+----------------+-----------------------------------|\r\n"
     ]
    }
   ],
   "source": [
    "!csvcut -c1,19,22,24,26 abq-food-inspections-fy2010.csv | head | csvlook"
   ]
  },
  {
   "cell_type": "markdown",
   "metadata": {},
   "source": [
    "Which columns present some complications or questions you would like to ask?\n",
    "\n",
    "No columns present significant complications.\n",
    "\n",
    "Questions:\n",
    "1.Which type of businesses are the most commonly inspected, and what is the most commonly occuring result?\n",
    "2.Which month has the highest number of inspections?\n"
   ]
  },
  {
   "cell_type": "markdown",
   "metadata": {},
   "source": [
    "Insert a combination of code and text/markdown cells here to review the data and describe what you find."
   ]
  },
  {
   "cell_type": "markdown",
   "metadata": {},
   "source": [
    "## Problem 2 - define a database model and load the data (35 points)\n",
    "\n",
    "Based on what you found above, create and connect to a new database, define a database table in it, and load this dataset into it.  You may use either of the methods for this step you have seen in earlier class notebooks.  You may choose to eliminate variables/columns if they are not relevant or interesting to you - explain your reasoning if you do.  Either way, you should load a majority of the columns present in the source dataset into the database and all of its rows.\n",
    "\n",
    "Once your data has loaded successfully, run a `COUNT(*)` query to verify that all the data has loaded correctly.\n",
    "\n",
    "Insert a combination of code and text/markdown cells here to connect to your database, define your table, load its data, and verify the loaded records."
   ]
  },
  {
   "cell_type": "code",
   "execution_count": 7,
   "metadata": {
    "collapsed": false
   },
   "outputs": [
    {
     "name": "stderr",
     "output_type": "stream",
     "text": [
      "/opt/conda/lib/python3.5/site-packages/IPython/config.py:13: ShimWarning: The `IPython.config` package has been deprecated. You should import from traitlets.config instead.\n",
      "  \"You should import from traitlets.config instead.\", ShimWarning)\n",
      "/opt/conda/lib/python3.5/site-packages/IPython/utils/traitlets.py:5: UserWarning: IPython.utils.traitlets has moved to a top-level traitlets package.\n",
      "  warn(\"IPython.utils.traitlets has moved to a top-level traitlets package.\")\n"
     ]
    }
   ],
   "source": [
    "%load_ext sql"
   ]
  },
  {
   "cell_type": "code",
   "execution_count": 8,
   "metadata": {
    "collapsed": false
   },
   "outputs": [
    {
     "name": "stdout",
     "output_type": "stream",
     "text": [
      "[sudo] password for jovyan: Restarting PostgreSQL 9.5 database server: main.\n"
     ]
    }
   ],
   "source": [
    "!echo 'redspot' | sudo -S service postgresql restart"
   ]
  },
  {
   "cell_type": "code",
   "execution_count": 9,
   "metadata": {
    "collapsed": true
   },
   "outputs": [],
   "source": [
    "!createdb -U dbuser food"
   ]
  },
  {
   "cell_type": "code",
   "execution_count": 10,
   "metadata": {
    "collapsed": false
   },
   "outputs": [
    {
     "data": {
      "text/plain": [
       "'Connected: dbuser@food'"
      ]
     },
     "execution_count": 10,
     "metadata": {},
     "output_type": "execute_result"
    }
   ],
   "source": [
    "%sql postgresql://dbuser@localhost:5432/food"
   ]
  },
  {
   "cell_type": "code",
   "execution_count": 11,
   "metadata": {
    "collapsed": false
   },
   "outputs": [
    {
     "name": "stdout",
     "output_type": "stream",
     "text": [
      "  1. CHILDRENS LEARNING GARDEN\n",
      "\t<class 'str'>\n",
      "\tNulls: False\n",
      "\tUnique values: 2482\n",
      "\t5 most frequent values:\n",
      "\t\tSMITHS FOOD AND DRUG CENTERS INC:\t85\n",
      "\t\tPER EHSII CECELIA GARCIA OOB LA REYNA DEL SUR:\t58\n",
      "\t\tISOTOPES PARK - OVATIONS:\t56\n",
      "\t\tOOB CALIFORNIA DEL NORTE ICE CREAM LLC:\t43\n",
      "\t\tDIONS PIZZA:\t41\n",
      "\tMax length: 77\n",
      "  2. 51814\n",
      "\t<class 'int'>\n",
      "\tNulls: False\n",
      "\tMin: 13\n",
      "\tMax: 96734\n",
      "\tSum: 467118908\n",
      "\tMean: 46716.56245624562\n",
      "\tMedian: 51133\n",
      "\tStandard Deviation: 32680.661277340052\n",
      "\tUnique values: 2686\n",
      "\t5 most frequent values:\n",
      "\t\t65863:\t58\n",
      "\t\t46323:\t56\n",
      "\t\t64527:\t43\n",
      "\t\t91825:\t40\n",
      "\t\t32817:\t40\n",
      "  3. 801 GIRARD NE \n",
      "\t<class 'str'>\n",
      "\tNulls: True\n",
      "\tUnique values: 2355\n",
      "\t5 most frequent values:\n",
      "\t\t644 OLD COORS BLVD SW:\t58\n",
      "\t\t1601 AVENIDA CESAR CHAVEZ SE:\t57\n",
      "\t\t2200 SUNPORT BLVD SE:\t44\n",
      "\t\t1415 4TH ST SW:\t43\n",
      "\t\t5210 CENTRAL AV SE:\t43\n",
      "\tMax length: 35\n",
      "  4. ALBUQUERQUE\n",
      "\t<class 'str'>\n",
      "\tNulls: False\n",
      "\tValues: ALBUQUERQUE\n",
      "  5. NM\n",
      "\t<class 'str'>\n",
      "\tNulls: False\n",
      "\tValues: NM, 87\n",
      "  6. 87106\n",
      "\t<class 'str'>\n",
      "\tNulls: False\n",
      "\tUnique values: 48\n",
      "\t5 most frequent values:\n",
      "\t\t87110:\t1166\n",
      "\t\t87108:\t1110\n",
      "\t\t87102:\t921\n",
      "\t\t87106:\t892\n",
      "\t\t87109:\t889\n",
      "\tMax length: 10\n",
      "  7. 48512\n",
      "\t<class 'int'>\n",
      "\tNulls: False\n",
      "\tMin: 11\n",
      "\tMax: 87302\n",
      "\tSum: 365368576\n",
      "\tMean: 36540.511651165114\n",
      "\tMedian: 33747\n",
      "\tStandard Deviation: 29416.676616710996\n",
      "\tUnique values: 1783\n",
      "\t5 most frequent values:\n",
      "\t\t1838:\t466\n",
      "\t\t3537:\t175\n",
      "\t\t1272:\t127\n",
      "\t\t80274:\t86\n",
      "\t\t44953:\t85\n",
      "  8. CHILDRENS LEARNING GARDEN\n",
      "\t<class 'str'>\n",
      "\tNulls: False\n",
      "\tUnique values: 1743\n",
      "\t5 most frequent values:\n",
      "\t\tAPS:\t466\n",
      "\t\tSMITHS FOOD AND DRUG CENTERS INC:\t175\n",
      "\t\tCIRCLE K STORES INC:\t161\n",
      "\t\tALBERTSONS:\t127\n",
      "\t\tPALO ALTO INC:\t90\n",
      "\tMax length: 82\n",
      "  9. CHILD DEVELOPMENT\n",
      "\t<class 'str'>\n",
      "\tNulls: True\n",
      "\tUnique values: 562\n",
      "\t5 most frequent values:\n",
      "\t\tRESTAURANT:\t2856\n",
      "\t\tFOOD SERVICE:\t404\n",
      "\t\tGROCERY:\t362\n",
      "\t\tBAR/RESTAURANT:\t290\n",
      "\t\tAPS SCHOOL FOOD SERVICE:\t284\n",
      "\tMax length: 25\n",
      " 10. 801\n",
      "\t<class 'str'>\n",
      "\tNulls: True\n",
      "\tUnique values: 1313\n",
      "\t5 most frequent values:\n",
      "\t\t6600:\t123\n",
      "\t\t300:\t88\n",
      "\t\t10000:\t82\n",
      "\t\t8100:\t75\n",
      "\t\t2200:\t71\n",
      "\tMax length: 7\n",
      " 11. GIRARD\n",
      "\t<class 'str'>\n",
      "\tNulls: True\n",
      "\tUnique values: 387\n",
      "\t5 most frequent values:\n",
      "\t\tCENTRAL:\t1071\n",
      "\t\tMENAUL:\t538\n",
      "\t\tCOORS:\t492\n",
      "\t\tMONTGOMERY:\t412\n",
      "\t\tSAN MATEO:\t395\n",
      "\tMax length: 24\n",
      " 12. _unnamed\n",
      "\t<class 'str'>\n",
      "\tNulls: True\n",
      "\tUnique values: 13\n",
      "\t5 most frequent values:\n",
      "\t\tBLVD:\t4304\n",
      "\t\tAV:\t1706\n",
      "\t\tST:\t1211\n",
      "\t\tRD:\t1103\n",
      "\t\tDR:\t562\n",
      "\tMax length: 4\n",
      " 13. NE\n",
      "\t<class 'str'>\n",
      "\tNulls: True\n",
      "\tValues: SW, NE, NW, SE, N\n",
      " 14. 5057929444\n",
      "\t<class 'int'>\n",
      "\tNulls: True\n",
      "\tMin: 2471094\n",
      "\tMax: 505345566137310\n",
      "\tSum: 1562643152589664\n",
      "\tMean: 170055844225.6681\n",
      "\tMedian: 5053453534\n",
      "\tStandard Deviation: 9129346635812.725\n",
      "\tUnique values: 2154\n",
      "\t5 most frequent values:\n",
      "\t\t3037929467:\t59\n",
      "\t\t3109680646:\t58\n",
      "\t\t5052224033:\t57\n",
      "\t\t9153321301:\t55\n",
      "\t\t5059750560:\t43\n",
      " 15. 0402\n",
      "\t<class 'str'>\n",
      "\tNulls: False\n",
      "\tUnique values: 25\n",
      "\t5 most frequent values:\n",
      "\t\t0406:\t4502\n",
      "\t\t0601:\t676\n",
      "\t\t0607:\t513\n",
      "\t\t0606:\t505\n",
      "\t\t0408:\t492\n",
      "\tMax length: 4\n",
      " 16. Childcare\n",
      "\t<class 'str'>\n",
      "\tNulls: True\n",
      "\tUnique values: 24\n",
      "\t5 most frequent values:\n",
      "\t\tFood Service Establishment:\t4502\n",
      "\t\tRetail -Grocery:\t676\n",
      "\t\tRetail - Self Service & Prepackage Foods:\t513\n",
      "\t\tRetail - Prepackage Only:\t505\n",
      "\t\tSchool:\t492\n",
      "\tMax length: 40\n",
      " 17. 2009-08-05 00:00:00\n",
      "\t<class 'datetime.date'>\n",
      "\tNulls: False\n",
      "\tMin: 2009-07-01\n",
      "\tMax: 2010-06-30\n",
      "\tUnique values: 256\n",
      "\t5 most frequent values:\n",
      "\t\t2009-12-16:\t113\n",
      "\t\t2009-09-10:\t92\n",
      "\t\t2009-09-15:\t79\n",
      "\t\t2009-12-01:\t77\n",
      "\t\t2009-07-16:\t75\n",
      " 18. _unnamed\n",
      "\t<class 'NoneType'>\n",
      "\tNulls: True\n",
      "\tValues: \n",
      " 19. ROUTINE FOOD INSPECTION\n",
      "\t<class 'str'>\n",
      "\tNulls: False\n",
      "\tUnique values: 14\n",
      "\t5 most frequent values:\n",
      "\t\tROUTINE FOOD INSPECTION:\t7106\n",
      "\t\tEMERGENCY RESPONSE:\t1103\n",
      "\t\tNew Business Inspection:\t568\n",
      "\t\tPRE-OPENING FOOD INSPECTION:\t411\n",
      "\t\tADDITIONAL SERVICE PROVIDED:\t256\n",
      "\tMax length: 32\n",
      " 20. DA8507664\n",
      "\t<class 'str'>\n",
      "\tNulls: False\n",
      "\tUnique values: 6707\n",
      "\t5 most frequent values:\n",
      "\t\tDA0059230:\t36\n",
      "\t\tDA0045731:\t36\n",
      "\t\tDA0045676:\t36\n",
      "\t\tDA0047720:\t33\n",
      "\t\tDA0047290:\t33\n",
      "\tMax length: 9\n",
      " 21. 11\n",
      "\t<class 'str'>\n",
      "\tNulls: False\n",
      "\tUnique values: 7\n",
      "\t5 most frequent values:\n",
      "\t\t11:\t8034\n",
      "\t\t00:\t1576\n",
      "\t\t09:\t240\n",
      "\t\t06:\t137\n",
      "\t\t10:\t7\n",
      "\tMax length: 2\n",
      " 22. APPROVED\n",
      "\t<class 'str'>\n",
      "\tNulls: False\n",
      "\tUnique values: 7\n",
      "\t5 most frequent values:\n",
      "\t\tAPPROVED:\t8034\n",
      "\t\tNON-GRADED:\t1576\n",
      "\t\tANNUAL STICKER ISSUED:\t240\n",
      "\t\tUNSATISFACTORY:\t137\n",
      "\t\tANNUAL STICKER NOT ISSUED:\t7\n",
      "\tMax length: 28\n",
      " 23. 03\n",
      "\t<class 'str'>\n",
      "\tNulls: False\n",
      "\tUnique values: 16\n",
      "\t5 most frequent values:\n",
      "\t\t03:\t8227\n",
      "\t\t00:\t1353\n",
      "\t\t05:\t117\n",
      "\t\t22:\t88\n",
      "\t\t18:\t59\n",
      "\tMax length: 2\n",
      " 24. IN COMPLIANCE\n",
      "\t<class 'str'>\n",
      "\tNulls: False\n",
      "\tUnique values: 16\n",
      "\t5 most frequent values:\n",
      "\t\tIN COMPLIANCE:\t8227\n",
      "\t\tNOT APPLICABLE:\t1353\n",
      "\t\tDOWNGRADE:\t117\n",
      "\t\tOUT OF BUSINESS:\t88\n",
      "\t\tTRAINING RECEIVED:\t59\n",
      "\tMax length: 37\n",
      " 25.     55    \n",
      "\t<class 'str'>\n",
      "\tNulls: True\n",
      "\tUnique values: 123\n",
      "\t5 most frequent values:\n",
      "\t\t55:\t3604\n",
      "\t\t00:\t2038\n",
      "\t\t68:\t917\n",
      "\t\t42:\t268\n",
      "\t\t35:\t255\n",
      "\tMax length: 6\n",
      " 26. Additional Comments\n",
      "\t<class 'str'>\n",
      "\tNulls: True\n",
      "\tUnique values: 68\n",
      "\t5 most frequent values:\n",
      "\t\tAdditional Comments:\t3607\n",
      "\t\tNo Violations Found:\t2040\n",
      "\t\tDelivered Informational Brochure:\t916\n",
      "\t\tPlumbing: Improperly installed/maintained/supplied:\t272\n",
      "\t\tNon-Food contact surfaces:\t258\n",
      "\tMax length: 50\n",
      " 27. _unnamed\n",
      "\t<class 'NoneType'>\n",
      "\tNulls: True\n",
      "\tValues: \n",
      "\n",
      "Row count: 9999\n"
     ]
    }
   ],
   "source": [
    "!shuf -n 10000 abq-food-inspections-fy2010.csv | csvstat"
   ]
  },
  {
   "cell_type": "code",
   "execution_count": 12,
   "metadata": {
    "collapsed": false
   },
   "outputs": [
    {
     "name": "stdout",
     "output_type": "stream",
     "text": [
      "Done.\n",
      "Done.\n"
     ]
    },
    {
     "data": {
      "text/plain": [
       "[]"
      ]
     },
     "execution_count": 12,
     "metadata": {},
     "output_type": "execute_result"
    }
   ],
   "source": [
    "%%sql\n",
    "DROP TABLE IF EXISTS food;\n",
    "CREATE TABLE food (\n",
    "    FACILITY_NAME VARCHAR(77),\n",
    "    FACILITY_KEY INTEGER,\n",
    "    SITE_ADDRESS VARCHAR(35),\n",
    "    CITY VARCHAR(11),\n",
    "    STATE VARCHAR(2),\n",
    "    ZIP VARCHAR(10),\n",
    "    OWNER_KEY INTEGER,\n",
    "    OWNER_NAME VARCHAR(82),\n",
    "    NATURE_OF_BUSINESS VARCHAR(25),\n",
    "    STREET_NUMBER VARCHAR(7),\n",
    "    STREET_NAME VARCHAR(24),\n",
    "    STREET_TYPE VARCHAR(4),\n",
    "    POST_DIRECTIONAL VARCHAR(2),\n",
    "    PHONE VARCHAR(15),\n",
    "    PROGRAM_CATEGORY VARCHAR(4),\n",
    "    PROGRAM_CATEGORY_DESCRIPTION VARCHAR(40),\n",
    "    INSPECTION_DATE TIMESTAMP, \n",
    "    INSPECTION_TYPE VARCHAR(40),\n",
    "    INSPECTION_DESC VARCHAR(32),\n",
    "    SERIAL_NUM VARCHAR(9),\n",
    "    ACTION_CODE VARCHAR(2),\n",
    "    ACTION_DESC VARCHAR(50),\n",
    "    RESULT_CODE VARCHAR(2),\n",
    "    RESULT_DESC VARCHAR(37),\n",
    "    VIOLATION_CODE VARCHAR(10),\n",
    "    VIOLATION_DESC VARCHAR(50),\n",
    "    INSPECTION_MEMO VARCHAR(40)\n",
    "    )"
   ]
  },
  {
   "cell_type": "code",
   "execution_count": 13,
   "metadata": {
    "collapsed": false
   },
   "outputs": [
    {
     "name": "stdout",
     "output_type": "stream",
     "text": [
      "/home/jovyan/work/Untitled Folder\r\n"
     ]
    }
   ],
   "source": [
    "!pwd"
   ]
  },
  {
   "cell_type": "code",
   "execution_count": 14,
   "metadata": {
    "collapsed": false
   },
   "outputs": [
    {
     "name": "stdout",
     "output_type": "stream",
     "text": [
      "17556 rows affected.\n"
     ]
    },
    {
     "data": {
      "text/plain": [
       "[]"
      ]
     },
     "execution_count": 14,
     "metadata": {},
     "output_type": "execute_result"
    }
   ],
   "source": [
    "%%sql\n",
    "COPY food FROM '/home/jovyan/work/Untitled Folder/abq-food-inspections-fy2010.csv'\n",
    "CSV\n",
    "HEADER\n",
    "QUOTE '\"'\n",
    "DELIMITER ',';"
   ]
  },
  {
   "cell_type": "code",
   "execution_count": 15,
   "metadata": {
    "collapsed": false
   },
   "outputs": [
    {
     "name": "stdout",
     "output_type": "stream",
     "text": [
      "1 rows affected.\n"
     ]
    },
    {
     "data": {
      "text/html": [
       "<table>\n",
       "    <tr>\n",
       "        <th>count</th>\n",
       "    </tr>\n",
       "    <tr>\n",
       "        <td>17556</td>\n",
       "    </tr>\n",
       "</table>"
      ],
      "text/plain": [
       "[(17556,)]"
      ]
     },
     "execution_count": 15,
     "metadata": {},
     "output_type": "execute_result"
    }
   ],
   "source": [
    "%%sql\n",
    "SELECT COUNT(*) FROM food;"
   ]
  },
  {
   "cell_type": "code",
   "execution_count": 16,
   "metadata": {
    "collapsed": false
   },
   "outputs": [
    {
     "name": "stdout",
     "output_type": "stream",
     "text": [
      "27 rows affected.\n"
     ]
    },
    {
     "data": {
      "text/html": [
       "<table>\n",
       "    <tr>\n",
       "        <th>column_name</th>\n",
       "        <th>data_type</th>\n",
       "        <th>character_maximum_length</th>\n",
       "        <th>is_nullable</th>\n",
       "    </tr>\n",
       "    <tr>\n",
       "        <td>facility_name</td>\n",
       "        <td>character varying</td>\n",
       "        <td>77</td>\n",
       "        <td>YES</td>\n",
       "    </tr>\n",
       "    <tr>\n",
       "        <td>facility_key</td>\n",
       "        <td>integer</td>\n",
       "        <td>None</td>\n",
       "        <td>YES</td>\n",
       "    </tr>\n",
       "    <tr>\n",
       "        <td>site_address</td>\n",
       "        <td>character varying</td>\n",
       "        <td>35</td>\n",
       "        <td>YES</td>\n",
       "    </tr>\n",
       "    <tr>\n",
       "        <td>city</td>\n",
       "        <td>character varying</td>\n",
       "        <td>11</td>\n",
       "        <td>YES</td>\n",
       "    </tr>\n",
       "    <tr>\n",
       "        <td>state</td>\n",
       "        <td>character varying</td>\n",
       "        <td>2</td>\n",
       "        <td>YES</td>\n",
       "    </tr>\n",
       "    <tr>\n",
       "        <td>zip</td>\n",
       "        <td>character varying</td>\n",
       "        <td>10</td>\n",
       "        <td>YES</td>\n",
       "    </tr>\n",
       "    <tr>\n",
       "        <td>owner_key</td>\n",
       "        <td>integer</td>\n",
       "        <td>None</td>\n",
       "        <td>YES</td>\n",
       "    </tr>\n",
       "    <tr>\n",
       "        <td>owner_name</td>\n",
       "        <td>character varying</td>\n",
       "        <td>82</td>\n",
       "        <td>YES</td>\n",
       "    </tr>\n",
       "    <tr>\n",
       "        <td>nature_of_business</td>\n",
       "        <td>character varying</td>\n",
       "        <td>25</td>\n",
       "        <td>YES</td>\n",
       "    </tr>\n",
       "    <tr>\n",
       "        <td>street_number</td>\n",
       "        <td>character varying</td>\n",
       "        <td>7</td>\n",
       "        <td>YES</td>\n",
       "    </tr>\n",
       "    <tr>\n",
       "        <td>street_name</td>\n",
       "        <td>character varying</td>\n",
       "        <td>24</td>\n",
       "        <td>YES</td>\n",
       "    </tr>\n",
       "    <tr>\n",
       "        <td>street_type</td>\n",
       "        <td>character varying</td>\n",
       "        <td>4</td>\n",
       "        <td>YES</td>\n",
       "    </tr>\n",
       "    <tr>\n",
       "        <td>post_directional</td>\n",
       "        <td>character varying</td>\n",
       "        <td>2</td>\n",
       "        <td>YES</td>\n",
       "    </tr>\n",
       "    <tr>\n",
       "        <td>phone</td>\n",
       "        <td>character varying</td>\n",
       "        <td>15</td>\n",
       "        <td>YES</td>\n",
       "    </tr>\n",
       "    <tr>\n",
       "        <td>program_category</td>\n",
       "        <td>character varying</td>\n",
       "        <td>4</td>\n",
       "        <td>YES</td>\n",
       "    </tr>\n",
       "    <tr>\n",
       "        <td>program_category_description</td>\n",
       "        <td>character varying</td>\n",
       "        <td>40</td>\n",
       "        <td>YES</td>\n",
       "    </tr>\n",
       "    <tr>\n",
       "        <td>inspection_date</td>\n",
       "        <td>timestamp without time zone</td>\n",
       "        <td>None</td>\n",
       "        <td>YES</td>\n",
       "    </tr>\n",
       "    <tr>\n",
       "        <td>inspection_type</td>\n",
       "        <td>character varying</td>\n",
       "        <td>40</td>\n",
       "        <td>YES</td>\n",
       "    </tr>\n",
       "    <tr>\n",
       "        <td>inspection_desc</td>\n",
       "        <td>character varying</td>\n",
       "        <td>32</td>\n",
       "        <td>YES</td>\n",
       "    </tr>\n",
       "    <tr>\n",
       "        <td>serial_num</td>\n",
       "        <td>character varying</td>\n",
       "        <td>9</td>\n",
       "        <td>YES</td>\n",
       "    </tr>\n",
       "    <tr>\n",
       "        <td>action_code</td>\n",
       "        <td>character varying</td>\n",
       "        <td>2</td>\n",
       "        <td>YES</td>\n",
       "    </tr>\n",
       "    <tr>\n",
       "        <td>action_desc</td>\n",
       "        <td>character varying</td>\n",
       "        <td>50</td>\n",
       "        <td>YES</td>\n",
       "    </tr>\n",
       "    <tr>\n",
       "        <td>result_code</td>\n",
       "        <td>character varying</td>\n",
       "        <td>2</td>\n",
       "        <td>YES</td>\n",
       "    </tr>\n",
       "    <tr>\n",
       "        <td>result_desc</td>\n",
       "        <td>character varying</td>\n",
       "        <td>37</td>\n",
       "        <td>YES</td>\n",
       "    </tr>\n",
       "    <tr>\n",
       "        <td>violation_code</td>\n",
       "        <td>character varying</td>\n",
       "        <td>10</td>\n",
       "        <td>YES</td>\n",
       "    </tr>\n",
       "    <tr>\n",
       "        <td>violation_desc</td>\n",
       "        <td>character varying</td>\n",
       "        <td>50</td>\n",
       "        <td>YES</td>\n",
       "    </tr>\n",
       "    <tr>\n",
       "        <td>inspection_memo</td>\n",
       "        <td>character varying</td>\n",
       "        <td>40</td>\n",
       "        <td>YES</td>\n",
       "    </tr>\n",
       "</table>"
      ],
      "text/plain": [
       "[('facility_name', 'character varying', 77, 'YES'),\n",
       " ('facility_key', 'integer', None, 'YES'),\n",
       " ('site_address', 'character varying', 35, 'YES'),\n",
       " ('city', 'character varying', 11, 'YES'),\n",
       " ('state', 'character varying', 2, 'YES'),\n",
       " ('zip', 'character varying', 10, 'YES'),\n",
       " ('owner_key', 'integer', None, 'YES'),\n",
       " ('owner_name', 'character varying', 82, 'YES'),\n",
       " ('nature_of_business', 'character varying', 25, 'YES'),\n",
       " ('street_number', 'character varying', 7, 'YES'),\n",
       " ('street_name', 'character varying', 24, 'YES'),\n",
       " ('street_type', 'character varying', 4, 'YES'),\n",
       " ('post_directional', 'character varying', 2, 'YES'),\n",
       " ('phone', 'character varying', 15, 'YES'),\n",
       " ('program_category', 'character varying', 4, 'YES'),\n",
       " ('program_category_description', 'character varying', 40, 'YES'),\n",
       " ('inspection_date', 'timestamp without time zone', None, 'YES'),\n",
       " ('inspection_type', 'character varying', 40, 'YES'),\n",
       " ('inspection_desc', 'character varying', 32, 'YES'),\n",
       " ('serial_num', 'character varying', 9, 'YES'),\n",
       " ('action_code', 'character varying', 2, 'YES'),\n",
       " ('action_desc', 'character varying', 50, 'YES'),\n",
       " ('result_code', 'character varying', 2, 'YES'),\n",
       " ('result_desc', 'character varying', 37, 'YES'),\n",
       " ('violation_code', 'character varying', 10, 'YES'),\n",
       " ('violation_desc', 'character varying', 50, 'YES'),\n",
       " ('inspection_memo', 'character varying', 40, 'YES')]"
      ]
     },
     "execution_count": 16,
     "metadata": {},
     "output_type": "execute_result"
    }
   ],
   "source": [
    "%%sql\n",
    "SELECT column_name, data_type, character_maximum_length, is_nullable\n",
    "FROM INFORMATION_SCHEMA.COLUMNS WHERE table_name = 'food';"
   ]
  },
  {
   "cell_type": "markdown",
   "metadata": {},
   "source": [
    "## Problem 3 - explore your data (30 points)\n",
    "\n",
    "Now that the data is loaded, ask some questions of it!  Identify key variables of interest and note their ranges along with other useful descriptive statistics.  Choose and define a few lines of inquiry, execute queries for each, and describe what you find in your result sets.  Use any query techniques we've seen in class, including aggregate functions, transformations, subqueries, or others as appropriate. \n",
    "\n",
    "If you find interesting patterns, adding plots to your exploration would be useful.\n",
    "\n",
    "Insert a combination of code and text/markdown cells here to explore your data."
   ]
  },
  {
   "cell_type": "markdown",
   "metadata": {},
   "source": [
    "\n",
    "What are the top ten reasons why restaurants are inspected?\n",
    "\n"
   ]
  },
  {
   "cell_type": "code",
   "execution_count": 17,
   "metadata": {
    "collapsed": false
   },
   "outputs": [
    {
     "name": "stdout",
     "output_type": "stream",
     "text": [
      "10 rows affected.\n"
     ]
    },
    {
     "data": {
      "text/html": [
       "<table>\n",
       "    <tr>\n",
       "        <th>inspection_desc</th>\n",
       "        <th>count</th>\n",
       "    </tr>\n",
       "    <tr>\n",
       "        <td>ROUTINE FOOD INSPECTION</td>\n",
       "        <td>12439</td>\n",
       "    </tr>\n",
       "    <tr>\n",
       "        <td>EMERGENCY RESPONSE</td>\n",
       "        <td>1987</td>\n",
       "    </tr>\n",
       "    <tr>\n",
       "        <td>New Business Inspection</td>\n",
       "        <td>1005</td>\n",
       "    </tr>\n",
       "    <tr>\n",
       "        <td>PRE-OPENING FOOD INSPECTION</td>\n",
       "        <td>743</td>\n",
       "    </tr>\n",
       "    <tr>\n",
       "        <td>ADDITIONAL SERVICE PROVIDED</td>\n",
       "        <td>439</td>\n",
       "    </tr>\n",
       "    <tr>\n",
       "        <td>MOBILE UNIT FOOD INSPECTION</td>\n",
       "        <td>377</td>\n",
       "    </tr>\n",
       "    <tr>\n",
       "        <td>PHONE CALL</td>\n",
       "        <td>247</td>\n",
       "    </tr>\n",
       "    <tr>\n",
       "        <td>FOOD FOLLOW-UP INSPECTION</td>\n",
       "        <td>143</td>\n",
       "    </tr>\n",
       "    <tr>\n",
       "        <td>FOLLOW-UP DOCUMENTATION RECEIVED</td>\n",
       "        <td>75</td>\n",
       "    </tr>\n",
       "    <tr>\n",
       "        <td>MANAGERIAL ASSISTANCE</td>\n",
       "        <td>54</td>\n",
       "    </tr>\n",
       "</table>"
      ],
      "text/plain": [
       "[('ROUTINE FOOD INSPECTION', 12439),\n",
       " ('EMERGENCY RESPONSE', 1987),\n",
       " ('New Business Inspection', 1005),\n",
       " ('PRE-OPENING FOOD INSPECTION', 743),\n",
       " ('ADDITIONAL SERVICE PROVIDED', 439),\n",
       " ('MOBILE UNIT FOOD INSPECTION', 377),\n",
       " ('PHONE CALL', 247),\n",
       " ('FOOD FOLLOW-UP INSPECTION', 143),\n",
       " ('FOLLOW-UP DOCUMENTATION RECEIVED', 75),\n",
       " ('MANAGERIAL ASSISTANCE', 54)]"
      ]
     },
     "execution_count": 17,
     "metadata": {},
     "output_type": "execute_result"
    }
   ],
   "source": [
    "%%sql\n",
    "SELECT inspection_desc, COUNT(*) AS count\n",
    "FROM food\n",
    "GROUP BY inspection_desc\n",
    "ORDER BY count DESC\n",
    "LIMIT  10"
   ]
  },
  {
   "cell_type": "markdown",
   "metadata": {},
   "source": [
    "We can see that other than routine food inspections, emergency response is the most common reason a inspection is conducted. As the other most common reasons are related to new services or openings, analyzing emergency responses would be a reasonable next step.\n",
    "\n",
    "Which facilities are most oftenly inspected? This information could be useful in planning and prevention for emergencies."
   ]
  },
  {
   "cell_type": "code",
   "execution_count": 18,
   "metadata": {
    "collapsed": false
   },
   "outputs": [
    {
     "name": "stdout",
     "output_type": "stream",
     "text": [
      "10 rows affected.\n"
     ]
    },
    {
     "data": {
      "text/html": [
       "<table>\n",
       "    <tr>\n",
       "        <th>facility_name</th>\n",
       "        <th>count</th>\n",
       "    </tr>\n",
       "    <tr>\n",
       "        <td>SMITHS FOOD AND DRUG CENTERS INC</td>\n",
       "        <td>130</td>\n",
       "    </tr>\n",
       "    <tr>\n",
       "        <td>ISOTOPES PARK - OVATIONS</td>\n",
       "        <td>93</td>\n",
       "    </tr>\n",
       "    <tr>\n",
       "        <td>ISLETA AMPHITHEATER</td>\n",
       "        <td>68</td>\n",
       "    </tr>\n",
       "    <tr>\n",
       "        <td>ECHO INC</td>\n",
       "        <td>65</td>\n",
       "    </tr>\n",
       "    <tr>\n",
       "        <td>OOB  PROS RANCH MARKETS OF ALBUQUERQUE</td>\n",
       "        <td>52</td>\n",
       "    </tr>\n",
       "    <tr>\n",
       "        <td>TALIN MARKET WORLD FOOD FARE</td>\n",
       "        <td>52</td>\n",
       "    </tr>\n",
       "    <tr>\n",
       "        <td>MCDONALDS</td>\n",
       "        <td>47</td>\n",
       "    </tr>\n",
       "    <tr>\n",
       "        <td>SUBWAY</td>\n",
       "        <td>46</td>\n",
       "    </tr>\n",
       "    <tr>\n",
       "        <td>OOB SUNFLOWER FARMERS MARKET</td>\n",
       "        <td>42</td>\n",
       "    </tr>\n",
       "    <tr>\n",
       "        <td>LA PETITE ACADEMY</td>\n",
       "        <td>41</td>\n",
       "    </tr>\n",
       "</table>"
      ],
      "text/plain": [
       "[('SMITHS FOOD AND DRUG CENTERS INC', 130),\n",
       " ('ISOTOPES PARK - OVATIONS', 93),\n",
       " ('ISLETA AMPHITHEATER', 68),\n",
       " ('ECHO INC', 65),\n",
       " ('OOB  PROS RANCH MARKETS OF ALBUQUERQUE', 52),\n",
       " ('TALIN MARKET WORLD FOOD FARE', 52),\n",
       " ('MCDONALDS', 47),\n",
       " ('SUBWAY', 46),\n",
       " ('OOB SUNFLOWER FARMERS MARKET', 42),\n",
       " ('LA PETITE ACADEMY', 41)]"
      ]
     },
     "execution_count": 18,
     "metadata": {},
     "output_type": "execute_result"
    }
   ],
   "source": [
    "%%sql\n",
    "SELECT facility_name, COUNT(*) AS count\n",
    "FROM food\n",
    "WHERE inspection_desc IN (\n",
    "    SELECT inspection_desc\n",
    "    FROM food\n",
    "    GROUP BY inspection_desc\n",
    "    ORDER BY COUNT(*) DESC\n",
    "    LIMIT 1)\n",
    "GROUP BY facility_name\n",
    "ORDER BY count DESC\n",
    "LIMIT 10;"
   ]
  },
  {
   "cell_type": "markdown",
   "metadata": {},
   "source": [
    "One signifciant facility is Smiths Food and Drug Centers Inc. which recerived 130 inspections in 2010. This is a significantly higher number of inspections than any other facility. We should look into why this facility in particular had so many more.\n",
    "\n",
    "\n",
    "We will look at the details of Smiths Food and Drug Centers inspections."
   ]
  },
  {
   "cell_type": "code",
   "execution_count": 19,
   "metadata": {
    "collapsed": false
   },
   "outputs": [
    {
     "name": "stdout",
     "output_type": "stream",
     "text": [
      "4 rows affected.\n"
     ]
    },
    {
     "data": {
      "text/html": [
       "<table>\n",
       "    <tr>\n",
       "        <th>inspection_desc</th>\n",
       "        <th>count</th>\n",
       "    </tr>\n",
       "    <tr>\n",
       "        <td>ROUTINE FOOD INSPECTION</td>\n",
       "        <td>130</td>\n",
       "    </tr>\n",
       "    <tr>\n",
       "        <td>EMERGENCY RESPONSE</td>\n",
       "        <td>15</td>\n",
       "    </tr>\n",
       "    <tr>\n",
       "        <td>PHONE CALL</td>\n",
       "        <td>7</td>\n",
       "    </tr>\n",
       "    <tr>\n",
       "        <td>ADDITIONAL SERVICE PROVIDED</td>\n",
       "        <td>2</td>\n",
       "    </tr>\n",
       "</table>"
      ],
      "text/plain": [
       "[('ROUTINE FOOD INSPECTION', 130),\n",
       " ('EMERGENCY RESPONSE', 15),\n",
       " ('PHONE CALL', 7),\n",
       " ('ADDITIONAL SERVICE PROVIDED', 2)]"
      ]
     },
     "execution_count": 19,
     "metadata": {},
     "output_type": "execute_result"
    }
   ],
   "source": [
    "%%sql\n",
    "SELECT INSPECTION_DESC,COUNT(*) As count\n",
    "FROM food\n",
    "WHERE inspection_desc IN (\n",
    "    SELECT inspection_desc\n",
    "    FROM food\n",
    "    GROUP BY inspection_desc\n",
    "    ORDER BY COUNT(*) DESC)\n",
    "    AND FACILITY_NAME = 'SMITHS FOOD AND DRUG CENTERS INC'\n",
    "GROUP BY inspection_desc\n",
    "ORDER BY count DESC\n",
    "LIMIT 10"
   ]
  },
  {
   "cell_type": "markdown",
   "metadata": {},
   "source": [
    "\n",
    "The majority of inspections performed are routine food inspections. with 15 emergency response inspections and 7 phone call inspections.\n",
    "\n",
    "\n",
    "Because not all routine inspections will result in violations, we are interested in the number of violations at Smiths Food and Drug Centers Inc.\n"
   ]
  },
  {
   "cell_type": "code",
   "execution_count": 20,
   "metadata": {
    "collapsed": false
   },
   "outputs": [
    {
     "name": "stdout",
     "output_type": "stream",
     "text": [
      "10 rows affected.\n"
     ]
    },
    {
     "data": {
      "text/html": [
       "<table>\n",
       "    <tr>\n",
       "        <th>violation_desc</th>\n",
       "        <th>count</th>\n",
       "    </tr>\n",
       "    <tr>\n",
       "        <td>Improper sanitizing</td>\n",
       "        <td>5</td>\n",
       "    </tr>\n",
       "    <tr>\n",
       "        <td>Floors, Walls, Ceilings</td>\n",
       "        <td>4</td>\n",
       "    </tr>\n",
       "    <tr>\n",
       "        <td>Plumbing: Improperly installed/maintained/supplied</td>\n",
       "        <td>4</td>\n",
       "    </tr>\n",
       "    <tr>\n",
       "        <td>Hot Holding</td>\n",
       "        <td>4</td>\n",
       "    </tr>\n",
       "    <tr>\n",
       "        <td>Thermometers not provided, not accurate/consp</td>\n",
       "        <td>3</td>\n",
       "    </tr>\n",
       "    <tr>\n",
       "        <td>Food unprotected</td>\n",
       "        <td>2</td>\n",
       "    </tr>\n",
       "    <tr>\n",
       "        <td>Cold Holding</td>\n",
       "        <td>2</td>\n",
       "    </tr>\n",
       "    <tr>\n",
       "        <td>Other Operations - Lighting</td>\n",
       "        <td>2</td>\n",
       "    </tr>\n",
       "    <tr>\n",
       "        <td>Evidence of insects</td>\n",
       "        <td>2</td>\n",
       "    </tr>\n",
       "    <tr>\n",
       "        <td>Cooling, Heating Procedures</td>\n",
       "        <td>1</td>\n",
       "    </tr>\n",
       "</table>"
      ],
      "text/plain": [
       "[('Improper sanitizing', 5),\n",
       " ('Floors, Walls, Ceilings', 4),\n",
       " ('Plumbing: Improperly installed/maintained/supplied', 4),\n",
       " ('Hot Holding', 4),\n",
       " ('Thermometers not provided, not accurate/consp', 3),\n",
       " ('Food unprotected', 2),\n",
       " ('Cold Holding', 2),\n",
       " ('Other Operations - Lighting', 2),\n",
       " ('Evidence of insects', 2),\n",
       " ('Cooling, Heating Procedures', 1)]"
      ]
     },
     "execution_count": 20,
     "metadata": {},
     "output_type": "execute_result"
    }
   ],
   "source": [
    "%%sql\n",
    "SELECT violation_desc, COUNT(*) AS count\n",
    "FROM food\n",
    "WHERE facility_name ='SMITHS FOOD AND DRUG CENTERS INC'\n",
    "and \n",
    "violation_desc not in ('No Violations Found', 'None', 'Additional Comments', 'Delivered Informational Brochure') \n",
    "GROUP BY violation_desc\n",
    "ORDER BY count DESC\n",
    "LIMIT 10\n",
    ";"
   ]
  },
  {
   "cell_type": "markdown",
   "metadata": {},
   "source": [
    "Other than inspections where no violations were found, improper sanitization, floors walls ceilings, and improper plumbing appear to the top three reasons for violations to be issued.\n",
    "\n",
    "Employing visualization tools, we can observe the trend of violations at this facility.\n"
   ]
  },
  {
   "cell_type": "code",
   "execution_count": 21,
   "metadata": {
    "collapsed": false
   },
   "outputs": [
    {
     "name": "stderr",
     "output_type": "stream",
     "text": [
      "/opt/conda/lib/python3.5/site-packages/matplotlib/font_manager.py:273: UserWarning: Matplotlib is building the font cache using fc-list. This may take a moment.\n",
      "  warnings.warn('Matplotlib is building the font cache using fc-list. This may take a moment.')\n",
      "/opt/conda/lib/python3.5/site-packages/matplotlib/font_manager.py:273: UserWarning: Matplotlib is building the font cache using fc-list. This may take a moment.\n",
      "  warnings.warn('Matplotlib is building the font cache using fc-list. This may take a moment.')\n"
     ]
    },
    {
     "data": {
      "text/plain": [
       "<Container object of 10 artists>"
      ]
     },
     "execution_count": 21,
     "metadata": {},
     "output_type": "execute_result"
    },
    {
     "data": {
      "image/png": "[encoded data removed]",
      "text/plain": [
       "<matplotlib.figure.Figure at 0x7fb9b08d6240>"
      ]
     },
     "metadata": {},
     "output_type": "display_data"
    }
   ],
   "source": [
    "%matplotlib inline\n",
    "result = _\n",
    "result.bar(color='blue')"
   ]
  },
  {
   "cell_type": "markdown",
   "metadata": {},
   "source": [
    "Now that we can see the causes of violations at Smiths Food and Drug Centers Inc graphically, we are interested in the results of the inspections.\n"
   ]
  },
  {
   "cell_type": "code",
   "execution_count": 22,
   "metadata": {
    "collapsed": false
   },
   "outputs": [
    {
     "name": "stdout",
     "output_type": "stream",
     "text": [
      "4 rows affected.\n"
     ]
    },
    {
     "data": {
      "text/html": [
       "<table>\n",
       "    <tr>\n",
       "        <th>result_desc</th>\n",
       "        <th>count</th>\n",
       "    </tr>\n",
       "    <tr>\n",
       "        <td>IN COMPLIANCE</td>\n",
       "        <td>130</td>\n",
       "    </tr>\n",
       "    <tr>\n",
       "        <td>NOT APPLICABLE</td>\n",
       "        <td>20</td>\n",
       "    </tr>\n",
       "    <tr>\n",
       "        <td>RECALL VERIFICATION</td>\n",
       "        <td>2</td>\n",
       "    </tr>\n",
       "    <tr>\n",
       "        <td>PHONE CALL</td>\n",
       "        <td>2</td>\n",
       "    </tr>\n",
       "</table>"
      ],
      "text/plain": [
       "[('IN COMPLIANCE', 130),\n",
       " ('NOT APPLICABLE', 20),\n",
       " ('RECALL VERIFICATION', 2),\n",
       " ('PHONE CALL', 2)]"
      ]
     },
     "execution_count": 22,
     "metadata": {},
     "output_type": "execute_result"
    }
   ],
   "source": [
    "%%sql\n",
    "SELECT result_desc, COUNT(*) AS count\n",
    "FROM food\n",
    "WHERE facility_name ='SMITHS FOOD AND DRUG CENTERS INC'\n",
    "GROUP BY result_desc\n",
    "ORDER BY count DESC\n",
    ";"
   ]
  },
  {
   "cell_type": "markdown",
   "metadata": {},
   "source": [
    "\n",
    "2. Which month has the highest number of inspections?\n"
   ]
  },
  {
   "cell_type": "code",
   "execution_count": 23,
   "metadata": {
    "collapsed": false
   },
   "outputs": [
    {
     "name": "stdout",
     "output_type": "stream",
     "text": [
      "12 rows affected.\n"
     ]
    },
    {
     "data": {
      "text/html": [
       "<table>\n",
       "    <tr>\n",
       "        <th>month</th>\n",
       "        <th>count</th>\n",
       "    </tr>\n",
       "    <tr>\n",
       "        <td>12.0</td>\n",
       "        <td>556</td>\n",
       "    </tr>\n",
       "    <tr>\n",
       "        <td>3.0</td>\n",
       "        <td>535</td>\n",
       "    </tr>\n",
       "    <tr>\n",
       "        <td>4.0</td>\n",
       "        <td>460</td>\n",
       "    </tr>\n",
       "    <tr>\n",
       "        <td>11.0</td>\n",
       "        <td>446</td>\n",
       "    </tr>\n",
       "    <tr>\n",
       "        <td>2.0</td>\n",
       "        <td>445</td>\n",
       "    </tr>\n",
       "    <tr>\n",
       "        <td>9.0</td>\n",
       "        <td>445</td>\n",
       "    </tr>\n",
       "    <tr>\n",
       "        <td>10.0</td>\n",
       "        <td>441</td>\n",
       "    </tr>\n",
       "    <tr>\n",
       "        <td>7.0</td>\n",
       "        <td>438</td>\n",
       "    </tr>\n",
       "    <tr>\n",
       "        <td>8.0</td>\n",
       "        <td>405</td>\n",
       "    </tr>\n",
       "    <tr>\n",
       "        <td>1.0</td>\n",
       "        <td>395</td>\n",
       "    </tr>\n",
       "    <tr>\n",
       "        <td>6.0</td>\n",
       "        <td>361</td>\n",
       "    </tr>\n",
       "    <tr>\n",
       "        <td>5.0</td>\n",
       "        <td>176</td>\n",
       "    </tr>\n",
       "</table>"
      ],
      "text/plain": [
       "[(12.0, 556),\n",
       " (3.0, 535),\n",
       " (4.0, 460),\n",
       " (11.0, 446),\n",
       " (2.0, 445),\n",
       " (9.0, 445),\n",
       " (10.0, 441),\n",
       " (7.0, 438),\n",
       " (8.0, 405),\n",
       " (1.0, 395),\n",
       " (6.0, 361),\n",
       " (5.0, 176)]"
      ]
     },
     "execution_count": 23,
     "metadata": {},
     "output_type": "execute_result"
    }
   ],
   "source": [
    "%%sql\n",
    "Select extract(month from INSPECTION_DATE) as month, count(*)\n",
    "from food\n",
    "Where violation_desc not in ('No Violations Found', 'None', 'Additional Comments', 'Delivered Informational Brochure') \n",
    "Group by month\n",
    "Order by count desc;"
   ]
  },
  {
   "cell_type": "code",
   "execution_count": 24,
   "metadata": {
    "collapsed": false
   },
   "outputs": [
    {
     "data": {
      "text/plain": [
       "<Container object of 12 artists>"
      ]
     },
     "execution_count": 24,
     "metadata": {},
     "output_type": "execute_result"
    },
    {
     "data": {
      "image/png": "[encoded data removed]",
      "text/plain": [
       "<matplotlib.figure.Figure at 0x7fb9b1a8ed30>"
      ]
     },
     "metadata": {},
     "output_type": "display_data"
    }
   ],
   "source": [
    "result = _\n",
    "result.bar(color='blue')"
   ]
  },
  {
   "cell_type": "markdown",
   "metadata": {},
   "source": [
    "This visualization shows that December has the highest number of inpsections, with march as a close second.\n",
    "The next thing we are interested in is if there is a signifcant difference in the number of violations between 2009 and 2010.\n"
   ]
  },
  {
   "cell_type": "code",
   "execution_count": 25,
   "metadata": {
    "collapsed": false
   },
   "outputs": [
    {
     "name": "stdout",
     "output_type": "stream",
     "text": [
      "2 rows affected.\n"
     ]
    },
    {
     "data": {
      "text/html": [
       "<table>\n",
       "    <tr>\n",
       "        <th>year</th>\n",
       "        <th>count</th>\n",
       "    </tr>\n",
       "    <tr>\n",
       "        <td>2009.0</td>\n",
       "        <td>2731</td>\n",
       "    </tr>\n",
       "    <tr>\n",
       "        <td>2010.0</td>\n",
       "        <td>2372</td>\n",
       "    </tr>\n",
       "</table>"
      ],
      "text/plain": [
       "[(2009.0, 2731), (2010.0, 2372)]"
      ]
     },
     "execution_count": 25,
     "metadata": {},
     "output_type": "execute_result"
    }
   ],
   "source": [
    "%%sql\n",
    "Select extract(year from INSPECTION_DATE) as year, count(*)\n",
    "from food\n",
    "Where violation_desc not in ('No Violations Found', 'None', 'Additional Comments', 'Delivered Informational Brochure') \n",
    "Group by year\n",
    "Order by count desc\n",
    "limit 10;"
   ]
  },
  {
   "cell_type": "markdown",
   "metadata": {},
   "source": [
    "## Bonus (10 points)\n",
    "\n",
    "We have seen a few simple techniques for normalizing data in class.  Choose a column or set of columns that might be redundant and normalize them out to another table:\n",
    "\n",
    "* Identify the columns to normalize in the source data table\n",
    "* Create one or more new tables to hold the normalized records\n",
    "* Extract data into the new tables\n",
    "* Re-insert the new foreign key references from the new table into the source table"
   ]
  },
  {
   "cell_type": "code",
   "execution_count": 26,
   "metadata": {
    "collapsed": false
   },
   "outputs": [
    {
     "name": "stdout",
     "output_type": "stream",
     "text": [
      "10 rows affected.\n"
     ]
    },
    {
     "data": {
      "text/html": [
       "<table>\n",
       "    <tr>\n",
       "        <th>facility_name</th>\n",
       "        <th>facility_key</th>\n",
       "    </tr>\n",
       "    <tr>\n",
       "        <td>00BSAY IT WITH CAKE</td>\n",
       "        <td>50534</td>\n",
       "    </tr>\n",
       "    <tr>\n",
       "        <td>2000 VIETNAM RESTAURANT</td>\n",
       "        <td>31468</td>\n",
       "    </tr>\n",
       "    <tr>\n",
       "        <td>328 CHINESE CUISINE</td>\n",
       "        <td>72789</td>\n",
       "    </tr>\n",
       "    <tr>\n",
       "        <td>5 STAR BURGERS</td>\n",
       "        <td>90929</td>\n",
       "    </tr>\n",
       "    <tr>\n",
       "        <td>66 DINER</td>\n",
       "        <td>7820</td>\n",
       "    </tr>\n",
       "    <tr>\n",
       "        <td>7 BAR ELEMENTARY SCHOOL</td>\n",
       "        <td>2207</td>\n",
       "    </tr>\n",
       "    <tr>\n",
       "        <td>7 ELEVEN</td>\n",
       "        <td>21347</td>\n",
       "    </tr>\n",
       "    <tr>\n",
       "        <td>7 ELEVEN 57722</td>\n",
       "        <td>21346</td>\n",
       "    </tr>\n",
       "    <tr>\n",
       "        <td>7 ELEVEN 700</td>\n",
       "        <td>21348</td>\n",
       "    </tr>\n",
       "    <tr>\n",
       "        <td>7 ELEVEN 702</td>\n",
       "        <td>21350</td>\n",
       "    </tr>\n",
       "</table>"
      ],
      "text/plain": [
       "[('00BSAY IT WITH CAKE', 50534),\n",
       " ('2000 VIETNAM RESTAURANT', 31468),\n",
       " ('328 CHINESE CUISINE', 72789),\n",
       " ('5 STAR BURGERS', 90929),\n",
       " ('66 DINER', 7820),\n",
       " ('7 BAR ELEMENTARY SCHOOL', 2207),\n",
       " ('7 ELEVEN', 21347),\n",
       " ('7 ELEVEN 57722', 21346),\n",
       " ('7 ELEVEN 700', 21348),\n",
       " ('7 ELEVEN 702', 21350)]"
      ]
     },
     "execution_count": 26,
     "metadata": {},
     "output_type": "execute_result"
    }
   ],
   "source": [
    "%%sql\n",
    "SELECT DISTINCT facility_name, facility_key\n",
    "FROM food\n",
    "ORDER BY facility_name\n",
    "limit 10;"
   ]
  },
  {
   "cell_type": "code",
   "execution_count": 27,
   "metadata": {
    "collapsed": false
   },
   "outputs": [
    {
     "name": "stdout",
     "output_type": "stream",
     "text": [
      "10 rows affected.\n"
     ]
    },
    {
     "data": {
      "text/html": [
       "<table>\n",
       "    <tr>\n",
       "        <th>owner_name</th>\n",
       "        <th>owner_key</th>\n",
       "    </tr>\n",
       "    <tr>\n",
       "        <td>110 SUNPORT LLC</td>\n",
       "        <td>80806</td>\n",
       "    </tr>\n",
       "    <tr>\n",
       "        <td>1ST CLASS LEARNING CENTER</td>\n",
       "        <td>39984</td>\n",
       "    </tr>\n",
       "    <tr>\n",
       "        <td>2000 VIETMAN RESTAURANT</td>\n",
       "        <td>29294</td>\n",
       "    </tr>\n",
       "    <tr>\n",
       "        <td>21ST CENTURY PUBLIC ACADEMY</td>\n",
       "        <td>65277</td>\n",
       "    </tr>\n",
       "    <tr>\n",
       "        <td>300 CLUB GRILL</td>\n",
       "        <td>80954</td>\n",
       "    </tr>\n",
       "    <tr>\n",
       "        <td>328 CHINESE CUISINE</td>\n",
       "        <td>66644</td>\n",
       "    </tr>\n",
       "    <tr>\n",
       "        <td>3RD ALARM COFFEE</td>\n",
       "        <td>67195</td>\n",
       "    </tr>\n",
       "    <tr>\n",
       "        <td>5 STAR ABQ INC</td>\n",
       "        <td>82383</td>\n",
       "    </tr>\n",
       "    <tr>\n",
       "        <td>6001 INC</td>\n",
       "        <td>15660</td>\n",
       "    </tr>\n",
       "    <tr>\n",
       "        <td>66 DINER</td>\n",
       "        <td>6743</td>\n",
       "    </tr>\n",
       "</table>"
      ],
      "text/plain": [
       "[('110 SUNPORT LLC', 80806),\n",
       " ('1ST CLASS LEARNING CENTER', 39984),\n",
       " ('2000 VIETMAN RESTAURANT', 29294),\n",
       " ('21ST CENTURY PUBLIC ACADEMY', 65277),\n",
       " ('300 CLUB GRILL', 80954),\n",
       " ('328 CHINESE CUISINE', 66644),\n",
       " ('3RD ALARM COFFEE', 67195),\n",
       " ('5 STAR ABQ INC', 82383),\n",
       " ('6001 INC', 15660),\n",
       " ('66 DINER', 6743)]"
      ]
     },
     "execution_count": 27,
     "metadata": {},
     "output_type": "execute_result"
    }
   ],
   "source": [
    "%%sql\n",
    "SELECT DISTINCT owner_name, owner_key\n",
    "FROM food\n",
    "ORDER BY owner_name\n",
    "limit 10;"
   ]
  },
  {
   "cell_type": "code",
   "execution_count": 28,
   "metadata": {
    "collapsed": false
   },
   "outputs": [
    {
     "name": "stdout",
     "output_type": "stream",
     "text": [
      "10 rows affected.\n"
     ]
    },
    {
     "data": {
      "text/html": [
       "<table>\n",
       "    <tr>\n",
       "        <th>restaurant_name</th>\n",
       "        <th>restaurant_id</th>\n",
       "    </tr>\n",
       "    <tr>\n",
       "        <td>OOB SPECIALTY HOSPITAL OF ALBUQUER</td>\n",
       "        <td>91957</td>\n",
       "    </tr>\n",
       "    <tr>\n",
       "        <td>QUIZNOS SUB 12316</td>\n",
       "        <td>82796</td>\n",
       "    </tr>\n",
       "    <tr>\n",
       "        <td>QUALITY INN UNIVERSITY</td>\n",
       "        <td>92080</td>\n",
       "    </tr>\n",
       "    <tr>\n",
       "        <td>OOB WEENIE WAGON</td>\n",
       "        <td>85431</td>\n",
       "    </tr>\n",
       "    <tr>\n",
       "        <td>SUSHI GEN</td>\n",
       "        <td>54063</td>\n",
       "    </tr>\n",
       "    <tr>\n",
       "        <td>FEDERICO SR</td>\n",
       "        <td>77232</td>\n",
       "    </tr>\n",
       "    <tr>\n",
       "        <td>SMITHS 439</td>\n",
       "        <td>4291</td>\n",
       "    </tr>\n",
       "    <tr>\n",
       "        <td>SB RESTAURANT CO</td>\n",
       "        <td>61877</td>\n",
       "    </tr>\n",
       "    <tr>\n",
       "        <td>DUKE CITY AQUATICS FOUNDATION</td>\n",
       "        <td>79374</td>\n",
       "    </tr>\n",
       "    <tr>\n",
       "        <td>IL VICINO HEIGHTS</td>\n",
       "        <td>29317</td>\n",
       "    </tr>\n",
       "</table>"
      ],
      "text/plain": [
       "[('OOB SPECIALTY HOSPITAL OF ALBUQUER', 91957),\n",
       " ('QUIZNOS SUB 12316', 82796),\n",
       " ('QUALITY INN UNIVERSITY', 92080),\n",
       " ('OOB WEENIE WAGON', 85431),\n",
       " ('SUSHI GEN', 54063),\n",
       " ('FEDERICO SR', 77232),\n",
       " ('SMITHS 439', 4291),\n",
       " ('SB RESTAURANT CO', 61877),\n",
       " ('DUKE CITY AQUATICS FOUNDATION', 79374),\n",
       " ('IL VICINO HEIGHTS', 29317)]"
      ]
     },
     "execution_count": 28,
     "metadata": {},
     "output_type": "execute_result"
    }
   ],
   "source": [
    "%%sql\n",
    "SELECT restaurant_name, restaurant_id\n",
    "FROM (\n",
    "    SELECT DISTINCT facility_name as restaurant_name, facility_key AS restaurant_id \n",
    "    FROM food\n",
    "    \n",
    "    UNION\n",
    "    \n",
    "    SELECT DISTINCT owner_name as restaurant_name, owner_key AS restaurant_id \n",
    "    FROM food\n",
    "    ) AS d\n",
    "LIMIT 10;"
   ]
  },
  {
   "cell_type": "code",
   "execution_count": 29,
   "metadata": {
    "collapsed": false
   },
   "outputs": [
    {
     "name": "stdout",
     "output_type": "stream",
     "text": [
      "Done.\n"
     ]
    },
    {
     "data": {
      "text/plain": [
       "[]"
      ]
     },
     "execution_count": 29,
     "metadata": {},
     "output_type": "execute_result"
    }
   ],
   "source": [
    "%%sql\n",
    "ALTER TABLE food\n",
    "ADD COLUMN facility_nid INTEGER;"
   ]
  },
  {
   "cell_type": "code",
   "execution_count": 30,
   "metadata": {
    "collapsed": false
   },
   "outputs": [
    {
     "name": "stdout",
     "output_type": "stream",
     "text": [
      "Done.\n",
      "Done.\n"
     ]
    },
    {
     "data": {
      "text/plain": [
       "[]"
      ]
     },
     "execution_count": 30,
     "metadata": {},
     "output_type": "execute_result"
    }
   ],
   "source": [
    "%%sql\n",
    "DROP TABLE IF EXISTS names;\n",
    "CREATE TABLE names(\n",
    "    id SERIAL,\n",
    "    name VARCHAR(164),\n",
    "    restaurant_id INTEGER\n",
    ");"
   ]
  },
  {
   "cell_type": "code",
   "execution_count": 31,
   "metadata": {
    "collapsed": false
   },
   "outputs": [
    {
     "name": "stdout",
     "output_type": "stream",
     "text": [
      "4727 rows affected.\n"
     ]
    },
    {
     "data": {
      "text/plain": [
       "[]"
      ]
     },
     "execution_count": 31,
     "metadata": {},
     "output_type": "execute_result"
    }
   ],
   "source": [
    "%%sql\n",
    "INSERT INTO names (name, restaurant_id)\n",
    "SELECT restaurant_name, restaurant_id FROM (\n",
    "   SELECT DISTINCT facility_name as restaurant_name, facility_key AS restaurant_id \n",
    "   FROM food\n",
    "    \n",
    "    UNION\n",
    "    \n",
    "    SELECT DISTINCT owner_name as restaurant_name, owner_key AS restaurant_id \n",
    "    FROM food\n",
    ") AS d;"
   ]
  },
  {
   "cell_type": "code",
   "execution_count": 32,
   "metadata": {
    "collapsed": false
   },
   "outputs": [
    {
     "name": "stdout",
     "output_type": "stream",
     "text": [
      "Done.\n"
     ]
    },
    {
     "data": {
      "text/plain": [
       "[]"
      ]
     },
     "execution_count": 32,
     "metadata": {},
     "output_type": "execute_result"
    }
   ],
   "source": [
    "%%sql\n",
    "ALTER TABLE food \n",
    "ADD COLUMN facility_newid INTEGER;"
   ]
  },
  {
   "cell_type": "code",
   "execution_count": 33,
   "metadata": {
    "collapsed": false
   },
   "outputs": [
    {
     "name": "stdout",
     "output_type": "stream",
     "text": [
      "17556 rows affected.\n"
     ]
    },
    {
     "data": {
      "text/plain": [
       "[]"
      ]
     },
     "execution_count": 33,
     "metadata": {},
     "output_type": "execute_result"
    }
   ],
   "source": [
    "%%sql\n",
    "UPDATE food as r\n",
    "SET facility_newid = n.id\n",
    "FROM names as n\n",
    "WHERE r.facility_name = n.name;"
   ]
  },
  {
   "cell_type": "code",
   "execution_count": 34,
   "metadata": {
    "collapsed": false
   },
   "outputs": [
    {
     "name": "stdout",
     "output_type": "stream",
     "text": [
      "Done.\n"
     ]
    },
    {
     "data": {
      "text/plain": [
       "[]"
      ]
     },
     "execution_count": 34,
     "metadata": {},
     "output_type": "execute_result"
    }
   ],
   "source": [
    "%%sql\n",
    "ALTER TABLE food\n",
    "ADD COLUMN owner_newid INTEGER;"
   ]
  },
  {
   "cell_type": "code",
   "execution_count": 35,
   "metadata": {
    "collapsed": false
   },
   "outputs": [
    {
     "name": "stdout",
     "output_type": "stream",
     "text": [
      "17556 rows affected.\n"
     ]
    },
    {
     "data": {
      "text/plain": [
       "[]"
      ]
     },
     "execution_count": 35,
     "metadata": {},
     "output_type": "execute_result"
    }
   ],
   "source": [
    "%%sql\n",
    "UPDATE food as r\n",
    "SET owner_newid = n.id\n",
    "FROM names as n\n",
    "WHERE r.owner_name = n.name;"
   ]
  },
  {
   "cell_type": "code",
   "execution_count": 36,
   "metadata": {
    "collapsed": false
   },
   "outputs": [
    {
     "name": "stdout",
     "output_type": "stream",
     "text": [
      "10 rows affected.\n"
     ]
    },
    {
     "data": {
      "text/html": [
       "<table>\n",
       "    <tr>\n",
       "        <th>facility_name</th>\n",
       "        <th>owner_name</th>\n",
       "        <th>facility_newid</th>\n",
       "        <th>owner_newid</th>\n",
       "    </tr>\n",
       "    <tr>\n",
       "        <td>OOB ALPHA CHI OMEGA</td>\n",
       "        <td>ALPHA CHI OMEGA</td>\n",
       "        <td>3684</td>\n",
       "        <td>432</td>\n",
       "    </tr>\n",
       "    <tr>\n",
       "        <td>BOYD COFFEE CO</td>\n",
       "        <td>BOYD COFFEE CO</td>\n",
       "        <td>3614</td>\n",
       "        <td>3614</td>\n",
       "    </tr>\n",
       "    <tr>\n",
       "        <td>OOB SUPER SUPPERS</td>\n",
       "        <td>SUPER SUPPERS ABQ WESTSIDE</td>\n",
       "        <td>3698</td>\n",
       "        <td>1932</td>\n",
       "    </tr>\n",
       "    <tr>\n",
       "        <td>SUBWAY</td>\n",
       "        <td>WIGH LLC</td>\n",
       "        <td>162</td>\n",
       "        <td>350</td>\n",
       "    </tr>\n",
       "    <tr>\n",
       "        <td>OOB WENDYS 11</td>\n",
       "        <td>DOUBLE CHEESE CORP</td>\n",
       "        <td>2115</td>\n",
       "        <td>3222</td>\n",
       "    </tr>\n",
       "    <tr>\n",
       "        <td>TIMES SQUARE DELI MART</td>\n",
       "        <td>KAYED LLC</td>\n",
       "        <td>2946</td>\n",
       "        <td>4467</td>\n",
       "    </tr>\n",
       "    <tr>\n",
       "        <td>OOB BROADWAY CHEVRON</td>\n",
       "        <td>EVER READY OIL CO INC</td>\n",
       "        <td>926</td>\n",
       "        <td>1168</td>\n",
       "    </tr>\n",
       "    <tr>\n",
       "        <td>SUBWAY 36875</td>\n",
       "        <td>BERMUDEZ SHORTS INC</td>\n",
       "        <td>501</td>\n",
       "        <td>3560</td>\n",
       "    </tr>\n",
       "    <tr>\n",
       "        <td>ANDALUZ RESTAURANT KITCHEN</td>\n",
       "        <td>GEMSTONE LA POSADA LLC</td>\n",
       "        <td>4068</td>\n",
       "        <td>3316</td>\n",
       "    </tr>\n",
       "    <tr>\n",
       "        <td>PANGAEA CINEMA LLC</td>\n",
       "        <td>PANGAEA CINEMA LLC</td>\n",
       "        <td>2665</td>\n",
       "        <td>2665</td>\n",
       "    </tr>\n",
       "</table>"
      ],
      "text/plain": [
       "[('OOB ALPHA CHI OMEGA', 'ALPHA CHI OMEGA', 3684, 432),\n",
       " ('BOYD COFFEE CO', 'BOYD COFFEE CO', 3614, 3614),\n",
       " ('OOB SUPER SUPPERS', 'SUPER SUPPERS ABQ WESTSIDE', 3698, 1932),\n",
       " ('SUBWAY', 'WIGH LLC', 162, 350),\n",
       " ('OOB WENDYS 11', 'DOUBLE CHEESE CORP', 2115, 3222),\n",
       " ('TIMES SQUARE DELI MART', 'KAYED LLC', 2946, 4467),\n",
       " ('OOB BROADWAY CHEVRON', 'EVER READY OIL CO INC', 926, 1168),\n",
       " ('SUBWAY 36875', 'BERMUDEZ SHORTS INC', 501, 3560),\n",
       " ('ANDALUZ RESTAURANT KITCHEN', 'GEMSTONE LA POSADA LLC', 4068, 3316),\n",
       " ('PANGAEA CINEMA LLC', 'PANGAEA CINEMA LLC', 2665, 2665)]"
      ]
     },
     "execution_count": 36,
     "metadata": {},
     "output_type": "execute_result"
    }
   ],
   "source": [
    "%%sql\n",
    "select distinct facility_name,owner_name, facility_newid, owner_newid \n",
    "from food \n",
    "limit 10;"
   ]
  },
  {
   "cell_type": "markdown",
   "metadata": {
    "collapsed": true
   },
   "source": [
    "End."
   ]
  },
  {
   "cell_type": "code",
   "execution_count": null,
   "metadata": {
    "collapsed": true
   },
   "outputs": [],
   "source": []
  }
 ],
 "metadata": {
  "anaconda-cloud": {},
  "kernelspec": {
   "display_name": "Python [Root]",
   "language": "python",
   "name": "Python [Root]"
  },
  "language_info": {
   "codemirror_mode": {
    "name": "ipython",
    "version": 3
   },
   "file_extension": ".py",
   "mimetype": "text/x-python",
   "name": "python",
   "nbconvert_exporter": "python",
   "pygments_lexer": "ipython3",
   "version": "3.5.2"
  }
 },
 "nbformat": 4,
 "nbformat_minor": 1
}
